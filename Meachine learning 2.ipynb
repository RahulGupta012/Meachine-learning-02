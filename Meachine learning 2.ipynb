{
 "cells": [
  {
   "cell_type": "markdown",
   "id": "3ba9455e-dfe6-43a9-b429-2160cfe9a0f6",
   "metadata": {},
   "source": [
    "# ASSIGHNMENT: MEACHINE LEARNING 2"
   ]
  },
  {
   "cell_type": "markdown",
   "id": "d681afb2-5c8b-4a65-975e-293d2cdecfbc",
   "metadata": {},
   "source": [
    "____________________________________________________________________________________________________________"
   ]
  },
  {
   "cell_type": "markdown",
   "id": "a7cfc312-26d6-4a8e-bf4c-19dc2e9a00b4",
   "metadata": {},
   "source": [
    "# Define overfitting and underfitting in machine learning. What are the consequences of each, and how can they be mitigated?"
   ]
  },
  {
   "cell_type": "markdown",
   "id": "5c81a8d6-f756-442f-b808-9769dfa6cfd9",
   "metadata": {},
   "source": [
    "- Overfitting \n",
    "Overfitting and underfitting both are the imperfections of a model. In the overfitting the accuracy of tarining of the model is high but in respect of that accuracay the testing model accuracay is low. It means the model has been biased with that specific dataset, which is used for giving training to the model.when we use a new data set for testing model, it gives low accuracy. Such kind of situation called overfitting in meachine learning.In this situation the bais of model is low and verience is high.\n",
    "\n",
    "- Underfitting\n",
    "In the case of underfitting, the bais is high and verience is low. In such a case training of the model has very low accuracay. and it is very obvious that the accuracy of test model should also be low for that.So it is also a fault of a system that has very low accuracy for giving the right output to the user."
   ]
  },
  {
   "cell_type": "markdown",
   "id": "047c911b-c9eb-4baf-a6cd-7a7a160edbff",
   "metadata": {},
   "source": [
    "# How can we reduce overfitting? Explain in brief. "
   ]
  },
  {
   "cell_type": "markdown",
   "id": "cd72af61-913c-4b89-8654-28c276d0f8aa",
   "metadata": {},
   "source": [
    "For reducing the overfitting we can do such steps:\n",
    "- we can train our model with more data\n",
    "- increse the number of training\n",
    "- Data Augmentation\n",
    "- Cross-Validation\n",
    "- Feature Selection\n",
    "- Regularization"
   ]
  },
  {
   "cell_type": "markdown",
   "id": "938c8a7a-6aa4-46bd-97f8-8f644bfb01c2",
   "metadata": {},
   "source": [
    "# Explain the bias-variance tradeoff in machine learning. What is the relationship between bias and variance, and how do they affect model performance?"
   ]
  },
  {
   "cell_type": "markdown",
   "id": "4b8ea7bc-a212-49ca-95c8-cff91b9d77ba",
   "metadata": {},
   "source": [
    "- Bias\n",
    "\n",
    "Bias in machine learning refers to the difference between a model’s predictions and the actual distribution of the value it tries to predict. High bias is a negative sign for a model in respect of their performance.\n",
    "\n",
    "- Varience\n",
    "\n",
    "Varince measures how much a distribution on several sets of data values differs from each other. It basically works for the data(row material), which is used to train the model. low varience is a again a good sign for accuracy of the data because the a similar type of data can tain the model better.\n",
    "\n",
    "- Relationships\n",
    "\n",
    "    - low bias + high varience = Overfitting\n",
    "    - high bias + low varience = Underfitting\n",
    "    - low bias + low varience = Genral Model (Perfect Model)"
   ]
  },
  {
   "cell_type": "markdown",
   "id": "4d814169-8664-4e7e-a7b4-af0482313a87",
   "metadata": {},
   "source": [
    "# Q5: Discuss some common methods for detecting overfitting and underfitting in machine learning models. How can you determine whether your model is overfitting or underfitting?"
   ]
  },
  {
   "cell_type": "markdown",
   "id": "c4d95417-4b0c-4e8b-81b9-fb2549caf257",
   "metadata": {},
   "source": [
    "We can reconizing the errors from the result, as we can revise the tarin data and test data. We check wether the accuracy of train data and test data by bias. and by checking these two perameters we can find the exact whether the model is overfitting or underfitting."
   ]
  },
  {
   "cell_type": "markdown",
   "id": "82f2fb57-4547-4e54-a59c-c1216a9c851b",
   "metadata": {},
   "source": []
  },
  {
   "cell_type": "code",
   "execution_count": null,
   "id": "ec4ba8ea-2851-42cc-b3a5-234198b2017f",
   "metadata": {},
   "outputs": [],
   "source": []
  }
 ],
 "metadata": {
  "kernelspec": {
   "display_name": "Python 3 (ipykernel)",
   "language": "python",
   "name": "python3"
  },
  "language_info": {
   "codemirror_mode": {
    "name": "ipython",
    "version": 3
   },
   "file_extension": ".py",
   "mimetype": "text/x-python",
   "name": "python",
   "nbconvert_exporter": "python",
   "pygments_lexer": "ipython3",
   "version": "3.10.8"
  }
 },
 "nbformat": 4,
 "nbformat_minor": 5
}
